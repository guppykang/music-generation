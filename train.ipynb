{
 "cells": [
  {
   "cell_type": "code",
   "execution_count": 30,
   "metadata": {},
   "outputs": [],
   "source": [
    "import numpy as np\n",
    "from model import *\n",
    "from dataloader import *\n",
    "import matplotlib.pyplot as plt"
   ]
  },
  {
   "cell_type": "code",
   "execution_count": 31,
   "metadata": {},
   "outputs": [],
   "source": [
    "config = {}\n",
    "config['epochs'] = 100\n",
    "config['temperature'] = 1\n",
    "config['num_neurons'] = 100\n",
    "config['num_layers'] = 1\n",
    "config['input_dim'] = None\n",
    "config['learning_rate'] = 0.001\n",
    "config['saved_path'] = 'Saved_weights_.pth'\n",
    "config['validation_loss_path'] = 'val_loss.out' \n",
    "config['training_loss_path'] = 'training_loss.out' \n",
    "config['early_stop_epoch'] = 3"
   ]
  },
  {
   "cell_type": "code",
   "execution_count": 32,
   "metadata": {},
   "outputs": [
    {
     "name": "stdout",
     "output_type": "stream",
     "text": [
      "CUDA is supported\n"
     ]
    }
   ],
   "source": [
    "# Check if your system supports CUDA\n",
    "use_cuda = torch.cuda.is_available()\n",
    "\n",
    "# Setup GPU optimization if CUDA is supported\n",
    "if use_cuda:\n",
    "    computing_device = torch.device(\"cuda\")\n",
    "    extras = {\"num_workers\": 1, \"pin_memory\": True}\n",
    "    print(\"CUDA is supported\")\n",
    "else: # Otherwise, train on the CPU\n",
    "    computing_device = torch.device(\"cpu\")\n",
    "    extras = False\n",
    "    print(\"CUDA NOT supported\")"
   ]
  },
  {
   "cell_type": "code",
   "execution_count": 33,
   "metadata": {
    "scrolled": true
   },
   "outputs": [
    {
     "name": "stdout",
     "output_type": "stream",
     "text": [
      "['c', '7', '+', 'v', 'k', '\"', 'C', 'G', 'f', \"'\", 'y', 'p', 'H', '6', 'J', ',', 'X', '&', '1', 'l', '-', 'S', 't', '0', '@', 'i', 'j', 'I', 'u', ')', 'Q', 'b', 'N', 'Z', 'K', 'd', 'O', 'x', '!', 'q', 'M', '*', '#', 'T', '9', 'e', '3', 'w', 'B', '\\\\', '_', 'm', '^', ' ', 'g', '5', '<', 'U', ']', '~', 'n', '\\t', 'V', 'L', 'o', '4', 'r', '8', '/', 'z', 'a', '?', '\\n', '[', ':', '.', 'h', 'F', 'W', 'E', '=', 'A', '}', '{', '>', '|', '(', 'P', 'Y', '2', 'R', 's', 'D']\n"
     ]
    }
   ],
   "source": [
    "train_file = open('train.txt', 'r')\n",
    "train_file = train_file.read()\n",
    "train_songs = []\n",
    "\n",
    "val_file = open('val.txt', 'r')\n",
    "val_file = val_file.read()\n",
    "val_songs = []\n",
    "\n",
    "test_file = open('test.txt', 'r')\n",
    "test_file = test_file.read()\n",
    "test_songs = []\n",
    "\n",
    "#split the songs into their own strings, while including start and end tags\n",
    "for song in train_file.split('<start>')[1:]:\n",
    "    #remove \\n after <end> tag\n",
    "    train_songs.append('<start>' + song[:-1])\n",
    "    \n",
    "for song in val_file.split('<start>')[1:]:\n",
    "    #remove \\n after <end> tag\n",
    "    val_songs.append('<start>' + song[:-1])\n",
    "\n",
    "for song in test_file.split('<start>')[1:]:\n",
    "    #remove \\n after <end> tag\n",
    "    test_songs.append('<start>' + song[:-1])\n",
    "    \n",
    "    \n",
    "unique_characters = list(set(train_file))\n",
    "config['input_dim'] = len(unique_characters)\n",
    "\n",
    "#create one hot encodings for each unique character in the alphabet of the training data\n",
    "one_hot_dict_encode = {}\n",
    "one_hot_dict_decode = {}\n",
    "index = 0\n",
    "for unique_character in unique_characters:\n",
    "    current_encoding = np.zeros(len(unique_characters))\n",
    "    current_encoding[index] = 1\n",
    "    \n",
    "    one_hot_dict_encode[unique_character] = current_encoding\n",
    "    one_hot_dict_decode[tuple(current_encoding)] = unique_character\n",
    "    \n",
    "    index += 1\n",
    "\n",
    "\n",
    "print((unique_characters))"
   ]
  },
  {
   "cell_type": "code",
   "execution_count": 34,
   "metadata": {},
   "outputs": [],
   "source": [
    "model = Lstm(config['input_dim'], config['num_neurons'], config['num_layers']).to(computing_device)\n",
    "if not os.path.exists(config['saved_path']):\n",
    "    torch.save({\n",
    "        'model_state_dict': model.state_dict(),\n",
    "        'optimizer_state_dict': optimizer.state_dict(),\n",
    "    }, config['saved_path'])\n",
    "    \n",
    "    np.savetxt(config['training_loss_path'], np.array([0,0]))\n",
    "    np.savetxt(config['validation_loss_path'], np.array([0,0]))\n",
    "    \n",
    "criterion = nn.CrossEntropyLoss()\n",
    "optimizer = torch.optim.Adam(model.parameters(), lr=config['learning_rate'])"
   ]
  },
  {
   "cell_type": "code",
   "execution_count": 37,
   "metadata": {
    "scrolled": true
   },
   "outputs": [
    {
     "name": "stdout",
     "output_type": "stream",
     "text": [
      "EPPPPOCCCHHHHH 1\n",
      "epoch 1 with train error 2.0578744411468506\n",
      "epoch 1 with val error 2.992347478866577\n",
      "val is less than previous\n",
      "EPPPPOCCCHHHHH 2\n",
      "epoch 2 with train error 2.0216681957244873\n",
      "epoch 2 with val error 2.9812326431274414\n",
      "val is less than previous\n",
      "EPPPPOCCCHHHHH 3\n",
      "epoch 3 with train error 1.9944965839385986\n",
      "epoch 3 with val error 2.9684314727783203\n",
      "val is less than previous\n",
      "EPPPPOCCCHHHHH 4\n",
      "epoch 4 with train error 1.9657121896743774\n",
      "epoch 4 with val error 2.9463274478912354\n",
      "val is less than previous\n",
      "EPPPPOCCCHHHHH 5\n",
      "epoch 5 with train error 1.9996148347854614\n",
      "epoch 5 with val error 2.907935380935669\n",
      "val is less than previous\n",
      "EPPPPOCCCHHHHH 6\n",
      "epoch 6 with train error 1.9357632398605347\n",
      "epoch 6 with val error 2.9266557693481445\n",
      "keeping old weights\n",
      "EPPPPOCCCHHHHH 7\n",
      "epoch 7 with train error 1.909978985786438\n",
      "epoch 7 with val error 2.926299810409546\n",
      "keeping old weights\n",
      "EPPPPOCCCHHHHH 8\n",
      "epoch 8 with train error 1.8954014778137207\n",
      "epoch 8 with val error 2.873845338821411\n",
      "val is less than previous\n",
      "EPPPPOCCCHHHHH 9\n",
      "epoch 9 with train error 1.874564290046692\n",
      "epoch 9 with val error 2.8724353313446045\n",
      "val is less than previous\n",
      "EPPPPOCCCHHHHH 10\n",
      "epoch 10 with train error 1.8602094650268555\n",
      "epoch 10 with val error 2.9016566276550293\n",
      "keeping old weights\n",
      "EPPPPOCCCHHHHH 11\n",
      "epoch 11 with train error 1.8532801866531372\n",
      "epoch 11 with val error 2.9128031730651855\n",
      "keeping old weights\n",
      "EPPPPOCCCHHHHH 12\n",
      "epoch 12 with train error 1.8317927122116089\n",
      "epoch 12 with val error 2.9585518836975098\n",
      "keeping old weights\n",
      "EPPPPOCCCHHHHH 13\n",
      "epoch 13 with train error 1.8209214210510254\n",
      "epoch 13 with val error 2.9461543560028076\n",
      "early stopping triggered\n"
     ]
    }
   ],
   "source": [
    "#for early stopping\n",
    "num_times_incraesed = 0\n",
    "prev_val_loss = float(\"inf\")\n",
    "\n",
    "\n",
    "#restore the model's weights \n",
    "checkpoint = torch.load(config['saved_path'])\n",
    "model.load_state_dict(checkpoint['model_state_dict'])\n",
    "optimizer.load_state_dict(checkpoint['optimizer_state_dict'])\n",
    "\n",
    "\n",
    "for epoch in range(config['epochs']):\n",
    "    old_net_weights = model.state_dict()\n",
    "    old_optimizer = optimizer.state_dict()\n",
    "    \n",
    "    training_losses = np.genfromtxt(config['training_loss_path'])\n",
    "    validation_losses = np.genfromtxt(config['validation_loss_path'])\n",
    "    epoch_loss = 0\n",
    "\n",
    "    print('EPPPPOCCCHHHHH ' + str(epoch + 1))\n",
    "    #TODO : randomize the songs here\n",
    "    \n",
    "    #train\n",
    "    model.train()\n",
    "    for song in train_songs:\n",
    "\n",
    "        #set states to 0 at the beginning of each song\n",
    "        hidden_state = torch.zeros((config['num_layers'], 1, config['num_neurons'])).to(computing_device)\n",
    "        hidden_state = hidden_state.float()\n",
    "        cell_state = torch.zeros((config['num_layers'], 1, config['num_neurons'])).to(computing_device)\n",
    "        cell_state = cell_state.float()\n",
    "        hidden = (hidden_state, cell_state)\n",
    "\n",
    "        \n",
    "        #encode the characters to their respective one hot encoding\n",
    "        encoded_inputs = [one_hot_dict_encode[character] for character in song]\n",
    "        \n",
    "        \n",
    "        #train\n",
    "        num_minibatches = math.ceil(len(encoded_inputs)/100)\n",
    "        for i in range(num_minibatches):\n",
    "            model.zero_grad()\n",
    "\n",
    "            chunk, targets = MyDataset(encoded_inputs)[i]\n",
    "            \n",
    "            if len(chunk) == 0:\n",
    "                break\n",
    "            \n",
    "            chunk = chunk.to(computing_device)\n",
    "            targets = targets.to(computing_device)\n",
    "            \n",
    "            output, hidden = model(chunk, hidden)\n",
    "            \n",
    "            loss = criterion(output, targets)\n",
    "            epoch_loss += loss\n",
    "            \n",
    "            loss.backward(retain_graph=True)\n",
    "            optimizer.step()\n",
    "      \n",
    "    #calculate training loss\n",
    "    average_epoch_loss = epoch_loss/num_minibatches/len(train_songs)\n",
    "    print('epoch ' + str(epoch + 1) + ' with train error '+ str(average_epoch_loss.cpu().item()))\n",
    "\n",
    "\n",
    "        \n",
    "\n",
    "    epoch_loss = 0\n",
    "    #validation\n",
    "    model.eval()\n",
    "    with torch.no_grad():\n",
    "        for song in val_songs:\n",
    "            #set states to 0 at the beginning of each song\n",
    "            hidden_state = torch.zeros((config['num_layers'], 1, config['num_neurons'])).to(computing_device)\n",
    "            hidden_state = hidden_state.float()\n",
    "            cell_state = torch.zeros((config['num_layers'], 1, config['num_neurons'])).to(computing_device)\n",
    "            cell_state = cell_state.float()\n",
    "            hidden = (hidden_state, cell_state)\n",
    "\n",
    "\n",
    "            #encode the characters to their respective one hot encoding\n",
    "            encoded_inputs = [one_hot_dict_encode[character] for character in song]\n",
    "\n",
    "\n",
    "            #val\n",
    "            num_minibatches = math.ceil(len(encoded_inputs)/100)\n",
    "            for i in range(num_minibatches):\n",
    "\n",
    "                chunk, targets = MyDataset(encoded_inputs)[i]\n",
    "\n",
    "                if len(chunk) == 0:\n",
    "                    break\n",
    "\n",
    "                chunk = chunk.to(computing_device)\n",
    "                targets = targets.to(computing_device)\n",
    "\n",
    "                output, hidden = model(chunk, hidden)\n",
    "\n",
    "                loss = criterion(output, targets)\n",
    "                epoch_loss += loss\n",
    "\n",
    "                \n",
    "    #calculate training loss\n",
    "    average_val_epoch_loss = epoch_loss/num_minibatches/len(val_songs)\n",
    "    print('epoch ' + str(epoch + 1) + ' with val error '+ str(average_val_epoch_loss.cpu().item()))\n",
    "    \n",
    "    \n",
    "    \n",
    "    #early stopping\n",
    "    \n",
    "    if average_val_epoch_loss > prev_val_loss:\n",
    "        print('keeping old weights')\n",
    "        num_times_incraesed += 1\n",
    "        model.load_state_dict(old_net_weights)\n",
    "        optimizer.load_state_dict(old_optimizer)\n",
    "    else : \n",
    "        print('val is less than previous')\n",
    "        num_times_incraesed = 0\n",
    "        prev_val_loss = average_val_epoch_loss\n",
    "        \n",
    "    if num_times_incraesed >= config['early_stop_epoch']:\n",
    "        print('early stopping triggered')\n",
    "        break       \n",
    "            \n",
    "            \n",
    "    #save model and loss\n",
    "    torch.save({\n",
    "        'model_state_dict': model.state_dict(),\n",
    "        'optimizer_state_dict': optimizer.state_dict(),\n",
    "    }, config['saved_path'])\n",
    "    \n",
    "    np.savetxt(config['training_loss_path'], np.append(training_losses, average_epoch_loss.cpu().item()))\n",
    "    np.savetxt(config['validation_loss_path'], np.append(validation_losses, average_val_epoch_loss.cpu().item()))\n",
    "        "
   ]
  },
  {
   "cell_type": "code",
   "execution_count": 38,
   "metadata": {},
   "outputs": [
    {
     "data": {
      "text/plain": [
       "[<matplotlib.lines.Line2D at 0x7f75e0d61048>]"
      ]
     },
     "execution_count": 38,
     "metadata": {},
     "output_type": "execute_result"
    },
    {
     "data": {
      "image/png": "[encoded data removed]",
      "text/plain": [
       "<Figure size 432x288 with 1 Axes>"
      ]
     },
     "metadata": {
      "needs_background": "light"
     },
     "output_type": "display_data"
    }
   ],
   "source": [
    "training_losses = np.genfromtxt(config['training_loss_path'])[2:]\n",
    "validation_losses = np.genfromtxt(config['validation_loss_path'])[2:]\n",
    "\n",
    "x_axis = []\n",
    "for i in range(len(training_losses)):\n",
    "    x_axis.append(i)\n",
    "\n",
    "plt.figure()\n",
    "plt.plot(x_axis, training_losses)\n",
    "plt.plot(x_axis, validation_losses)"
   ]
  },
  {
   "cell_type": "code",
   "execution_count": null,
   "metadata": {},
   "outputs": [],
   "source": [
    "# torch.save({\n",
    "#         'model_state_dict': model.state_dict(),\n",
    "#         'optimizer_state_dict': optimizer.state_dict(),\n",
    "#     }, config['saved_path'])"
   ]
  },
  {
   "cell_type": "code",
   "execution_count": null,
   "metadata": {},
   "outputs": [],
   "source": []
  }
 ],
 "metadata": {
  "kernelspec": {
   "display_name": "Python 3",
   "language": "python",
   "name": "python3"
  },
  "language_info": {
   "codemirror_mode": {
    "name": "ipython",
    "version": 3
   },
   "file_extension": ".py",
   "mimetype": "text/x-python",
   "name": "python",
   "nbconvert_exporter": "python",
   "pygments_lexer": "ipython3",
   "version": "3.7.3"
  }
 },
 "nbformat": 4,
 "nbformat_minor": 2
}
